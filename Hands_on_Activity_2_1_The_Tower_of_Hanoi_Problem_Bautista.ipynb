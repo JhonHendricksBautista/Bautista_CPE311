{
  "nbformat": 4,
  "nbformat_minor": 0,
  "metadata": {
    "colab": {
      "provenance": [],
      "authorship_tag": "ABX9TyMQ0wx7SRs4BN95fbl2ZYQM",
      "include_colab_link": true
    },
    "kernelspec": {
      "name": "python3",
      "display_name": "Python 3"
    },
    "language_info": {
      "name": "python"
    }
  },
  "cells": [
    {
      "cell_type": "markdown",
      "metadata": {
        "id": "view-in-github",
        "colab_type": "text"
      },
      "source": [
        "<a href=\"https://colab.research.google.com/github/JhonHendricksBautista/Bautista_CPE311/blob/main/Hands_on_Activity_2_1_The_Tower_of_Hanoi_Problem_Bautista.ipynb\" target=\"_parent\"><img src=\"https://colab.research.google.com/assets/colab-badge.svg\" alt=\"Open In Colab\"/></a>"
      ]
    },
    {
      "cell_type": "markdown",
      "source": [
        "For the first answer it is the looping structure for the solving of tower of Hanoi. I used a function which completely solves the given variables. I moslty used lists to represent the disks and rods in the program so that I can track it each step. For the loop itself, I used the math equation for finding the steps for solving N number of disks which will serve as the counter for my loop. Inside the loop if contains combinations of rods to be used then conditions to show that the program can select the smaller disk to be tranfered. Then this program will end when the moves is exhausted."
      ],
      "metadata": {
        "id": "hELiQV610QH3"
      }
    },
    {
      "cell_type": "code",
      "execution_count": null,
      "metadata": {
        "id": "-PPbObAZkyqC",
        "colab": {
          "base_uri": "https://localhost:8080/"
        },
        "outputId": "7d9c0583-73a5-4d68-c638-cda58377db82"
      },
      "outputs": [
        {
          "output_type": "stream",
          "name": "stdout",
          "text": [
            "Start the TOWER OF HANOI!\n",
            "Move disk 1 from rod A to rod C\n",
            "Rod A: [3, 2]\n",
            "Rod B: []\n",
            "Rod C: [1]\n",
            "Move disk 2 from rod A to rod B\n",
            "Rod A: [3]\n",
            "Rod B: [2]\n",
            "Rod C: [1]\n",
            "Move disk 1 from rod C to rod B\n",
            "Rod A: [3]\n",
            "Rod B: [2, 1]\n",
            "Rod C: []\n",
            "Move disk 3 from rod A to rod C\n",
            "Rod A: []\n",
            "Rod B: [2, 1]\n",
            "Rod C: [3]\n",
            "Move disk 1 from rod B to rod A\n",
            "Rod A: [1]\n",
            "Rod B: [2]\n",
            "Rod C: [3]\n",
            "Move disk 2 from rod B to rod C\n",
            "Rod A: [1]\n",
            "Rod B: []\n",
            "Rod C: [3, 2]\n",
            "Move disk 1 from rod A to rod C\n",
            "Rod A: []\n",
            "Rod B: []\n",
            "Rod C: [3, 2, 1]\n",
            "End Game!\n"
          ]
        }
      ],
      "source": [
        "#LOOPING ANSWER\n",
        "def gameofHanoi(num_disks, pegA, pegB, pegC, nameA, nameB, nameC):\n",
        "    total_moves = 2 ** num_disks - 1 #use tower of hanoi formula to dictate number of loops\n",
        "\n",
        "    #swapping the rods for the even numbered disk since it is needed for the switching\n",
        "    if num_disks % 2 == 0:\n",
        "        pegB, pegC = pegC, pegB\n",
        "        nameB, nameC = nameC, nameB\n",
        "\n",
        "    #use dictionary to properly name rods\n",
        "    rods = {nameA: pegA, nameB: pegB, nameC: pegC}\n",
        "    #use list for the proper combination of rods needed per turn\n",
        "    rod_order = [(nameA, nameC), (nameA, nameB), (nameB, nameC)]\n",
        "\n",
        "    #loops per turn needed to move the disks\n",
        "    for move in range(1, total_moves + 1):\n",
        "        source, destination = rod_order[(move - 1) % 3] #gets the combination of rods needed\n",
        "        if not rods[source] or (rods[destination] and rods[source][-1] > rods[destination][-1]): # prevent using large disk and check if there is now the need for a swap of rods\n",
        "            source, destination = destination, source\n",
        "\n",
        "        #prints the every turn of the loop\n",
        "        rods[destination].append(rods[source].pop())\n",
        "        print(f\"Move disk {rods[destination][-1]} from rod {source} to rod {destination}\")\n",
        "        print(f\"Rod {nameA}: {pegA}\")\n",
        "        print(f\"Rod {nameB}: {pegB}\")\n",
        "        print(f\"Rod {nameC}: {pegC}\")\n",
        "\n",
        "\n",
        "N = [i for i in range(3, 0, -1)] #always larger disks at the bottom\n",
        "a, b, c = N[:], [], []  #Peg A (source), Peg B (aux), Peg C (destination)\n",
        "\n",
        "# Run the function\n",
        "print(\"Start the TOWER OF HANOI!\")\n",
        "gameofHanoi(len(N), a, b, c, 'A', 'B', 'C')\n",
        "print(\"End Game!\")\n"
      ]
    },
    {
      "cell_type": "markdown",
      "source": [
        "This code shows the recursive structure of the possible solution in solving the tower of hanoi. Just like the previous structure, I also moslty used lists to serve as containers for disks, and rods to show the each step of the process clearly. In this recursion, the first condition just checks if you passed on a empty list which automatically ends the program. The first recursion is needed to transfer the first two disks to the middle rod which explains the way the paramters are set. To be able to reflect that on the list I used the pop and append methods. Then for the second recusion, it happens when we need to transfer the two small disk from middle rod to the last rod."
      ],
      "metadata": {
        "id": "Wv1sagUc1wO-"
      }
    },
    {
      "cell_type": "code",
      "source": [
        "def gameofHanoi(disks, pegA, pegB, pegC, nameA, nameB, nameC):\n",
        "  #checking if the disk list is empty, then stop the program\n",
        "    if not disks:\n",
        "        return\n",
        "    #move small disks from A to B using C as container\n",
        "    gameofHanoi(disks[:-1], pegA, pegC, pegB, nameA, nameC, nameB)\n",
        "\n",
        "    #after recursion use pop to remove small disk then append to the other rod accordingly\n",
        "    disk = pegA.pop()\n",
        "    pegC.append(disk)\n",
        "\n",
        "    #used to print what moved and where for easy tracking of flow\n",
        "    print(f\"Move disk {disk} from rod {nameA} to rod {nameC}\")\n",
        "    print(f\"Rod {nameA}: {pegA}\")\n",
        "    print(f\"Rod {nameB}: {pegB}\")\n",
        "    print(f\"Rod {nameC}: {pegC}\")\n",
        "\n",
        "    #move small disk from B to C using A container. now source is set as pegB\n",
        "    gameofHanoi(disks[:-1], pegB, pegA, pegC, nameB, nameA, nameC)\n",
        "\n",
        "# the variables needed to run the game, I used lists as container per rod and disk\n",
        "N = [3, 2, 1] #always place bigger to smallest\n",
        "a = N[:] #pegA list\n",
        "b = [] #pegB list\n",
        "c = [] #pegC list\n",
        "\n",
        "#Main\n",
        "print(\"Start the TOWER OF HANOI !\")\n",
        "# Run the function\n",
        "gameofHanoi(N, a, b, c, 'A', 'B', 'C')\n",
        "print(\"End Game!\")\n"
      ],
      "metadata": {
        "colab": {
          "base_uri": "https://localhost:8080/"
        },
        "id": "dPgCaHVH8poE",
        "outputId": "96d8f1a1-0540-4a55-9a1b-32f826027eab"
      },
      "execution_count": null,
      "outputs": [
        {
          "output_type": "stream",
          "name": "stdout",
          "text": [
            "Start the TOWER OF HANOI !\n",
            "Move disk 1 from rod A to rod C\n",
            "Rod A: [3, 2]\n",
            "Rod B: []\n",
            "Rod C: [1]\n",
            "Move disk 2 from rod A to rod B\n",
            "Rod A: [3]\n",
            "Rod C: [1]\n",
            "Rod B: [2]\n",
            "Move disk 1 from rod C to rod B\n",
            "Rod C: []\n",
            "Rod A: [3]\n",
            "Rod B: [2, 1]\n",
            "Move disk 3 from rod A to rod C\n",
            "Rod A: []\n",
            "Rod B: [2, 1]\n",
            "Rod C: [3]\n",
            "Move disk 1 from rod B to rod A\n",
            "Rod B: [2]\n",
            "Rod C: [3]\n",
            "Rod A: [1]\n",
            "Move disk 2 from rod B to rod C\n",
            "Rod B: []\n",
            "Rod A: [1]\n",
            "Rod C: [3, 2]\n",
            "Move disk 1 from rod A to rod C\n",
            "Rod A: []\n",
            "Rod B: []\n",
            "Rod C: [3, 2, 1]\n",
            "End Game!\n"
          ]
        }
      ]
    },
    {
      "cell_type": "markdown",
      "source": [
        "**CONCLUSION**"
      ],
      "metadata": {
        "id": "COYgK4BG49FO"
      }
    },
    {
      "cell_type": "markdown",
      "source": [
        "For this activity, I learned the possible solutions for solving a game of Tower of Hanoi. I was able to use recursion and looping structure for this problem. For me, in apporaching the types of problems which has strict patterns and repetions like the Tower of Hanoi, the use of recursion is more easier and understandable. This is because there are less code to read and the recursion principle is easily implemented since the solution already has a recursive like structure. The recursion method allows you to make the program easily repeat itself without going through more code. I think the looping structure for this problem was a harder approach because you need to implement more conditions to achieve the same results. Also the code structure is harder to follow due to more conditions needed to be placed."
      ],
      "metadata": {
        "id": "dkzorpF92sTO"
      }
    }
  ]
}