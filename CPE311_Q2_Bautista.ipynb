{
 "cells": [
  {
   "cell_type": "code",
   "execution_count": 79,
   "id": "c23ee51c-6250-4d30-88db-ff76910f2c01",
   "metadata": {},
   "outputs": [
    {
     "name": "stdout",
     "output_type": "stream",
     "text": [
      "[[1, 1, 1, 1], [1, 2, 2, 2]]\n"
     ]
    }
   ],
   "source": [
    "def money(change, coins):\n",
    "    dp = [1] + [0] * change #create tabulation \n",
    "    dp[0] = 1 # combination for change 0\n",
    "    combi = []\n",
    "    temp = []\n",
    "\n",
    "    #creating table\n",
    "    for coin in coins:\n",
    "        for i in range(1, change + 1):\n",
    "            dp[i] += dp[i - coin]\n",
    "            temp.append(dp[coin])\n",
    "        combi.append(temp)\n",
    "        temp = []\n",
    "\n",
    "    return combi\n",
    "\n",
    "#function to compare combinations return the least length\n",
    "def getLeastCombo(combo):\n",
    "    test = combo[0]\n",
    "    for item in combo:\n",
    "        if len(test) < len(item):\n",
    "            test = item\n",
    "            \n",
    "    return test\n",
    "    \n",
    "# create coins\n",
    "coins = [1, 2]\n",
    "change = 4\n",
    "print(money(change, coins))"
   ]
  },
  {
   "cell_type": "code",
   "execution_count": null,
   "id": "8c37afe5-d10c-429f-b61f-79c62d6e467e",
   "metadata": {},
   "outputs": [],
   "source": []
  }
 ],
 "metadata": {
  "kernelspec": {
   "display_name": "Python 3 (ipykernel)",
   "language": "python",
   "name": "python3"
  },
  "language_info": {
   "codemirror_mode": {
    "name": "ipython",
    "version": 3
   },
   "file_extension": ".py",
   "mimetype": "text/x-python",
   "name": "python",
   "nbconvert_exporter": "python",
   "pygments_lexer": "ipython3",
   "version": "3.12.4"
  }
 },
 "nbformat": 4,
 "nbformat_minor": 5
}
