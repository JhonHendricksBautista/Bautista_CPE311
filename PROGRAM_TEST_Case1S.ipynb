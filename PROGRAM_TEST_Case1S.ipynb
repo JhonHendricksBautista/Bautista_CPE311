{
  "nbformat": 4,
  "nbformat_minor": 0,
  "metadata": {
    "colab": {
      "provenance": [],
      "include_colab_link": true
    },
    "kernelspec": {
      "name": "python3",
      "display_name": "Python 3"
    },
    "language_info": {
      "name": "python"
    }
  },
  "cells": [
    {
      "cell_type": "markdown",
      "metadata": {
        "id": "view-in-github",
        "colab_type": "text"
      },
      "source": [
        "<a href=\"https://colab.research.google.com/github/JhonHendricksBautista/Bautista_CPE311/blob/main/PROGRAM_TEST_Case1S.ipynb\" target=\"_parent\"><img src=\"https://colab.research.google.com/assets/colab-badge.svg\" alt=\"Open In Colab\"/></a>"
      ]
    },
    {
      "cell_type": "code",
      "execution_count": null,
      "metadata": {
        "colab": {
          "base_uri": "https://localhost:8080/"
        },
        "id": "-WahYJed9azi",
        "outputId": "b5e6b880-5d04-45e5-c7b7-ee70479ddcc1"
      },
      "outputs": [
        {
          "output_type": "stream",
          "name": "stdout",
          "text": [
            "===============Q1=====================\n",
            "Clayey:['soybean']\n",
            "Sandy:['garlic']\n",
            "sandy:['okra', 'cocoa']\n",
            "\n",
            "\n",
            "===============Q2=====================\n",
            "Sandy:['corn', 'barley', 'millets']\n",
            "Loamy:['sugarcane', 'wheat']\n",
            "Clayey:['paddy', 'pigeon pea']\n",
            "Sandy Loam:['millet']\n",
            "\n",
            "\n",
            "===============Q3=====================\n",
            "Sandy:['corn', 'barley']\n",
            "Loamy:['sugarcane', 'safflower']\n",
            "Clayey:['paddy', 'pulses', 'pigeon pea']\n",
            "Sandy Loam:['millet']\n",
            "\n",
            "\n",
            "===============Q4=====================\n",
            "Clayey:['soybean']\n",
            "Loamy:['hemp']\n",
            "Sandy:['garlic']\n",
            "loamy:['banana']\n",
            "sandy:['pumpkin']\n",
            "\n",
            "\n"
          ]
        }
      ],
      "source": [
        "import pandas as pd\n",
        "\n",
        "def DP_TABULATION(Names, temperature, Humidity, Soils, Prices, max_hum, min_hum, max_temp, min_temp, GIVEN_BUDGET):\n",
        "    rows = len(Prices)\n",
        "\n",
        "    # Initialize DP table\n",
        "    # instead na 0 gawin empty list kasi mag base tayo sa len ng crops pag dating sa pag kokompara\n",
        "    table = [[[] for _ in range(GIVEN_BUDGET + 1)] for _ in range(rows + 1)]\n",
        "\n",
        "\n",
        "    for row in range(1, rows + 1):\n",
        "        for column in range(1, GIVEN_BUDGET + 1):\n",
        "          #initialize the next value to avoid redundunt\n",
        "            crop_name = Names[row - 1]\n",
        "            crop_temp = temperature[row - 1]\n",
        "            crop_hum = Humidity[row - 1]\n",
        "            crop_soil = Soils[row - 1]\n",
        "            crop_price = Prices[row - 1]\n",
        "\n",
        "            if crop_price <= column and (min_temp <= crop_temp <= max_temp) and (min_hum <= crop_hum <= max_hum):\n",
        "                # Maximize by choosing the best crop combination\n",
        "                # by checking who has the highest length of list of crops between previous row and the computed coordinates\n",
        "                table[row][column] = max(table[row - 1][column],\n",
        "                                         [(crop_name, crop_soil)] + table[row - 1][column - crop_price],\n",
        "                                         key=len)\n",
        "            else:\n",
        "              # if not get the list crops of the previous row\n",
        "                table[row][column] = table[row - 1][column]\n",
        "\n",
        "    # Get the best crop combination\n",
        "    best_combination = table[rows][GIVEN_BUDGET]\n",
        "\n",
        "    # Organize results by soil type\n",
        "    soil_dict = {}\n",
        "    for crop, soil in best_combination:\n",
        "        if soil not in soil_dict:\n",
        "            soil_dict[soil] = []\n",
        "        soil_dict[soil].append(crop)\n",
        "\n",
        "    return soil_dict\n",
        "\n",
        "def test_tabulation(Names, temperature, Humidity, Soils, Prices, GIVEN_HUMIDITY, GIVEN_TEMP, GIVEN_BUDGET):\n",
        "    results = {}\n",
        "    for quarter in range(4):\n",
        "\n",
        "      results[f'Q{quarter+1}'] = DP_TABULATION(\n",
        "            Names,\n",
        "            temperature,\n",
        "            Humidity,\n",
        "            Soils,\n",
        "            Prices,\n",
        "            GIVEN_HUMIDITY[quarter][1],\n",
        "            GIVEN_HUMIDITY[quarter][0],\n",
        "            GIVEN_TEMP[quarter][1],\n",
        "            GIVEN_TEMP[quarter][0],\n",
        "            GIVEN_BUDGET\n",
        "        )\n",
        "\n",
        "    return results\n",
        "\n",
        "dataframes = pd.read_csv('/content/UPDATED_CROPS.csv')\n",
        "Names = dataframes['Crop Type']\n",
        "temperature = dataframes['Temparature']\n",
        "Humidity = dataframes['Humidity']\n",
        "Soils = dataframes['Soil Type']\n",
        "Prices = dataframes['Price(PHP)']\n",
        "\n",
        "GIVEN_HUMIDITY = [(64,84),(50,70),(45,65),(60,80)]\n",
        "GIVEN_TEMP = [(22,27),(25,36),(23,29),(22,27)]\n",
        "GIVEN_BUDGET = 800\n",
        "\n",
        "\n",
        "#here is the printing of results\n",
        "for key, value in test_tabulation(Names, temperature, Humidity, Soils, Prices, GIVEN_HUMIDITY, GIVEN_TEMP, GIVEN_BUDGET).items():\n",
        "  print(f'==============={key}=====================')\n",
        "  for keys,values in value.items():\n",
        "    print(f'{keys}:{values}')\n",
        "\n",
        "  print('\\n')"
      ]
    }
  ]
}