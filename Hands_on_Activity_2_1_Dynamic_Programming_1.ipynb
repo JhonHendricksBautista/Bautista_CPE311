{
  "cells": [
    {
      "cell_type": "markdown",
      "metadata": {
        "id": "view-in-github",
        "colab_type": "text"
      },
      "source": [
        "<a href=\"https://colab.research.google.com/github/JhonHendricksBautista/Bautista_CPE311/blob/main/Hands_on_Activity_2_1_Dynamic_Programming_1.ipynb\" target=\"_parent\"><img src=\"https://colab.research.google.com/assets/colab-badge.svg\" alt=\"Open In Colab\"/></a>"
      ]
    },
    {
      "cell_type": "markdown",
      "id": "f1c6ec95",
      "metadata": {
        "id": "f1c6ec95"
      },
      "source": [
        "# Hands-on Activity 2.1 : Dynamic Programming"
      ]
    },
    {
      "cell_type": "markdown",
      "id": "56dacba1",
      "metadata": {
        "id": "56dacba1"
      },
      "source": [
        "#### Objective(s):\n",
        "\n",
        "This activity aims to demonstrate how to use dynamic programming to solve problems."
      ]
    },
    {
      "cell_type": "markdown",
      "id": "e51f84e3",
      "metadata": {
        "id": "e51f84e3"
      },
      "source": [
        "#### Intended Learning Outcomes (ILOs):\n",
        "* Differentiate recursion method from dynamic programming to solve problems.\n",
        "* Demonstrate how to  solve real-world problems using dynamic programming\n"
      ]
    },
    {
      "cell_type": "markdown",
      "id": "39047b1a",
      "metadata": {
        "id": "39047b1a"
      },
      "source": [
        "#### Resources:\n",
        "* Jupyter Notebook\n"
      ]
    },
    {
      "cell_type": "markdown",
      "id": "cb5360c0",
      "metadata": {
        "id": "cb5360c0"
      },
      "source": [
        "#### Procedures:"
      ]
    },
    {
      "cell_type": "markdown",
      "id": "206a914c",
      "metadata": {
        "id": "206a914c"
      },
      "source": [
        "1. Create a code that demonstrate how to use recursion method to solve problem"
      ]
    },
    {
      "cell_type": "markdown",
      "id": "5744a876",
      "metadata": {
        "id": "5744a876"
      },
      "source": [
        "2. Create a program codes that demonstrate how to use dynamic programming to solve the same problem"
      ]
    },
    {
      "cell_type": "markdown",
      "id": "8e3f6572",
      "metadata": {
        "id": "8e3f6572"
      },
      "source": [
        "##### Question:\n",
        "Explain the difference of using the recursion from dynamic programming using the given sample codes to solve the same problem"
      ]
    },
    {
      "cell_type": "markdown",
      "id": "b5a71b53",
      "metadata": {
        "id": "b5a71b53"
      },
      "source": [
        "Type your answer here:\n",
        "\n",
        "After this activity I observed that in the programs recursion uses its ability to call itself repeadtly to solve for the possible solutions but still in the range of the condition. It uses it recursive calls in a brute force way since it always continuously compute for the optimal solution. On the other hand dynamic programming uses recordings of the results in a table. Now instead of repeatedly solving, we can now check if we have that value solved already. With this, computing is cut short since we dont have to recompute for the same result over and over for the same result.\n",
        "\n",
        "\n"
      ]
    },
    {
      "cell_type": "markdown",
      "id": "60074702",
      "metadata": {
        "id": "60074702"
      },
      "source": [
        "3. Create a sample program codes to simulate bottom-up dynamic programming"
      ]
    },
    {
      "cell_type": "markdown",
      "id": "e629eb89",
      "metadata": {
        "id": "e629eb89"
      },
      "source": [
        "4. Create a sample program codes that simulate tops-down dynamic programming"
      ]
    },
    {
      "cell_type": "markdown",
      "id": "c2e2434c",
      "metadata": {
        "id": "c2e2434c"
      },
      "source": [
        "#### Question:\n",
        " Explain the difference between bottom-up from top-down dynamic programming using the given sample codes"
      ]
    },
    {
      "cell_type": "markdown",
      "id": "ac97e063",
      "metadata": {
        "id": "ac97e063"
      },
      "source": [
        "Type your answer here:\n",
        "\n",
        "For the apparent difference of the two methods is top-down or memoization uses recursive calls for when the record is not found in the memoization table. On the hand tabulation or bottom-up approach does direct computation and storing of values. This means that top-down approach always make sure to decompose the big problem then solve it piece by piece through its recursion. On the other hand, Bottom-Up apporach uses iterations in filling up the table so that it would form the solution for the overall problem.\n",
        "\n",
        "\n",
        "\n"
      ]
    },
    {
      "cell_type": "markdown",
      "id": "f7a5bfbd",
      "metadata": {
        "id": "f7a5bfbd"
      },
      "source": [
        "0/1 Knapsack Problem\n",
        "\n",
        "* Analyze three different techniques to solve knapsacks problem\n",
        "1. Recursion\n",
        "2. Dynamic Programming\n",
        "3. Memoization"
      ]
    },
    {
      "cell_type": "code",
      "source": [
        "#sample code for knapsack problem using recursion\n",
        "def rec_knapSack(w, wt, val, n):\n",
        "\n",
        "  #base case\n",
        "  #defined as nth item is empty;\n",
        "  #or the capacity w is 0\n",
        "  if n == 0 or w == 0:\n",
        "    return 0\n",
        "\n",
        "  #if weight of the nth item is more than\n",
        "  #the capacity W, then this item cannot be included\n",
        "  #as part of the optimal solution\n",
        "  if(wt[n-1] > w):\n",
        "    return rec_knapSack(w, wt, val, n-1)\n",
        "\n",
        "  #return the maximum of the two cases:\n",
        "  # (1) include the nth item\n",
        "  # (2) don't include the nth item\n",
        "  else:\n",
        "    return max(\n",
        "        val[n-1] + rec_knapSack(\n",
        "            w-wt[n-1], wt, val, n-1),\n",
        "            rec_knapSack(w, wt, val, n-1)\n",
        "    )"
      ],
      "metadata": {
        "id": "15SVHF85_1Ji"
      },
      "id": "15SVHF85_1Ji",
      "execution_count": null,
      "outputs": []
    },
    {
      "cell_type": "code",
      "source": [
        "#To test:\n",
        "val = [60, 100, 120] #values for the items\n",
        "wt = [10, 20, 30] #weight of the items\n",
        "w = 50 #knapsack weight capacity\n",
        "n = len(val) #number of items\n",
        "\n",
        "rec_knapSack(w, wt, val, n)"
      ],
      "metadata": {
        "colab": {
          "base_uri": "https://localhost:8080/"
        },
        "id": "b1D3YRJ7cMqU",
        "outputId": "788d87c8-0d84-4dd6-dfcf-1206fa495812"
      },
      "id": "b1D3YRJ7cMqU",
      "execution_count": null,
      "outputs": [
        {
          "output_type": "execute_result",
          "data": {
            "text/plain": [
              "220"
            ]
          },
          "metadata": {},
          "execution_count": 27
        }
      ]
    },
    {
      "cell_type": "code",
      "source": [
        "#Dynamic Programming for the Knapsack Problem\n",
        "def DP_knapSack(w, wt, val, n):\n",
        "  #create the table\n",
        "  table = [[0 for x in range(w+1)] for x in range (n+1)]\n",
        "\n",
        "  #populate the table in a bottom-up approach\n",
        "  for i in range(n+1):\n",
        "    for w in range(w+1):\n",
        "      if i == 0 or w == 0:\n",
        "        table[i][w] = 0\n",
        "      elif wt[i-1] <= w:\n",
        "        table[i][w] = max(val[i-1] + table[i-1][w-wt[i-1]],\n",
        "                          table[i-1][w])\n",
        "  return table[n][w]"
      ],
      "metadata": {
        "id": "A8OU1sUJ_1ES"
      },
      "id": "A8OU1sUJ_1ES",
      "execution_count": null,
      "outputs": []
    },
    {
      "cell_type": "code",
      "source": [
        "#To test:\n",
        "val = [60, 100, 120]\n",
        "wt = [10, 20, 30]\n",
        "w = 50\n",
        "n = len(val)\n",
        "\n",
        "DP_knapSack(w, wt, val, n)"
      ],
      "metadata": {
        "colab": {
          "base_uri": "https://localhost:8080/"
        },
        "id": "GUNeEPHrd-N1",
        "outputId": "4829e602-248b-48f8-cbd3-e75c4d87d3b6"
      },
      "id": "GUNeEPHrd-N1",
      "execution_count": null,
      "outputs": [
        {
          "output_type": "execute_result",
          "data": {
            "text/plain": [
              "220"
            ]
          },
          "metadata": {},
          "execution_count": 29
        }
      ]
    },
    {
      "cell_type": "code",
      "source": [
        "#Sample for top-down DP approach (memoization)\n",
        "#initialize the list of items\n",
        "val = [60, 100, 120]\n",
        "wt = [10, 20, 30]\n",
        "w = 50\n",
        "n = len(val)\n",
        "\n",
        "#initialize the container for the values that have to be stored\n",
        "#values are initialized to -1\n",
        "calc =[[-1 for i in range(w+1)] for j in range(n+1)]\n",
        "\n",
        "\n",
        "def mem_knapSack(wt, val, w, n):\n",
        "  #base conditions\n",
        "  if n == 0 or w == 0:\n",
        "    return 0\n",
        "  if calc[n][w] != -1:\n",
        "    return calc[n][w]\n",
        "\n",
        "  #compute for the other cases\n",
        "  if wt[n-1] <= w:\n",
        "    calc[n][w] = max(val[n-1] + mem_knapSack(wt, val, w-wt[n-1], n-1),\n",
        "                     mem_knapSack(wt, val, w, n-1))\n",
        "    return calc[n][w]\n",
        "  elif wt[n-1] > w:\n",
        "    calc[n][w] = mem_knapSack(wt, val, w, n-1)\n",
        "    return calc[n][w]\n",
        "\n",
        "mem_knapSack(wt, val, w, n)"
      ],
      "metadata": {
        "id": "VgwTX-XT_0_h",
        "colab": {
          "base_uri": "https://localhost:8080/"
        },
        "outputId": "6f3c2cc6-01fc-433a-ae1e-cbb99976c028"
      },
      "id": "VgwTX-XT_0_h",
      "execution_count": null,
      "outputs": [
        {
          "output_type": "execute_result",
          "data": {
            "text/plain": [
              "220"
            ]
          },
          "metadata": {},
          "execution_count": 31
        }
      ]
    },
    {
      "cell_type": "markdown",
      "source": [
        "**Code Analysis**\n",
        "\n",
        "The three techniques of solving the knapsack problem always starts of by their base cases which is the 0 value which would in turn return to 0. The recursion solution is not lenghty to read and it uses its recursive calls to repeatly solve for the optimal solution. It does this by using condition to decide wether to add the item to the solution. This decision making happens every recursion call until the solution is found. In comparison to the other solutions, recursion has no for loops but use recursive calls instead. For the dynamic programming, tabulation method, it uses a double for loop for creating the table and inserting the proper data since there are only 2 attributes used. In comparison to the first solution, tabulation make use of a table to find and compare the values each iteration of the loop. For the last method which is memoization, works like a storage of memory since it stores the computation of the items in a container. It uses a recursive call to solve a given value if it is not yet present in the memoization container, but it can automatically output the result if it is. It avoid the repetition of computations since it has stored that data already."
      ],
      "metadata": {
        "id": "-UXSSblDcF8T"
      },
      "id": "-UXSSblDcF8T"
    },
    {
      "cell_type": "markdown",
      "source": [
        "## Seatwork 2.1"
      ],
      "metadata": {
        "id": "IGsdUGCUcTFd"
      },
      "id": "IGsdUGCUcTFd"
    },
    {
      "cell_type": "markdown",
      "id": "0462053d",
      "metadata": {
        "id": "0462053d"
      },
      "source": [
        "Task 1: Modify the three techniques to include additional criterion in the knapsack problems"
      ]
    },
    {
      "cell_type": "code",
      "execution_count": 49,
      "id": "ed2f6186",
      "metadata": {
        "id": "ed2f6186",
        "colab": {
          "base_uri": "https://localhost:8080/"
        },
        "outputId": "1dd3a62d-77ef-4d3b-acc7-738bdf9ce0d6"
      },
      "outputs": [
        {
          "output_type": "execute_result",
          "data": {
            "text/plain": [
              "220"
            ]
          },
          "metadata": {},
          "execution_count": 49
        }
      ],
      "source": [
        "#type your code here\n",
        "#Recursion\n",
        "#sample code for knapsack problem using recursion\n",
        "def rec_knapSack(w, wt, val, n, item_no_limit, count = 0):\n",
        "\n",
        "  #base case\n",
        "  #defined as nth item is empty;\n",
        "  #or the capacity w is 0\n",
        "  if n == 0 or w == 0 or count == item_no_limit:\n",
        "    return 0\n",
        "\n",
        "  #if weight of the nth item is more than\n",
        "  #the capacity W, then this item cannot be included\n",
        "  #as part of the optimal solution\n",
        "  if wt[n - 1] > w:\n",
        "    return rec_knapSack(w, wt, val, n - 1, item_no_limit, count)\n",
        "\n",
        "  #return the maximum of the two cases:\n",
        "  # (1) include the nth item\n",
        "  # (2) don't include the nth item\n",
        "  include_item = val[n - 1] + rec_knapSack(w - wt[n - 1], wt, val, n - 1, item_no_limit, count + 1)\n",
        "  exclude_item = rec_knapSack(w, wt, val, n - 1, item_no_limit, count)\n",
        "\n",
        "  return max(include_item, exclude_item)\n",
        "\n",
        "#To test:\n",
        "val = [60, 100, 120, 80, 70, 20, 30] #values for the items\n",
        "wt = [10, 20, 30, 40, 60, 10, 50] #weight of the items\n",
        "item_no_limit = 3\n",
        "w = 50 #knapsack weight capacity\n",
        "n = len(val) #number of items\n",
        "\n",
        "rec_knapSack(w, wt, val, n, item_no_limit)\n",
        "\n"
      ]
    },
    {
      "cell_type": "code",
      "source": [
        "#Dynamic\n",
        "def knapSack_tabulation(w, wt, val, n, item_no_limit):\n",
        "    #dpTable[item][weight][limiting] stores max value using first item\n",
        "    dpTable = [[[0] * (item_no_limit + 1) for _ in range(w + 1)] for _ in range(n + 1)]\n",
        "\n",
        "    #for loops for adding items in the dpTable\n",
        "    for item in range(1, n + 1):  #iterate through items\n",
        "        for weight in range(w + 1):  #iterate through weight capacities\n",
        "            for limiting in range(1, item_no_limit + 1):  #iterate through item limits\n",
        "                dpTable[item][weight][limiting] = dpTable[item - 1][weight][limiting]\n",
        "\n",
        "                #condition to include item if within condition\n",
        "                if wt[item - 1] <= weight:\n",
        "                    dpTable[item][weight][limiting] = max(\n",
        "                        dpTable[item][weight][limiting],\n",
        "                        val[item - 1] + dpTable[item - 1][weight - wt[item - 1]][limiting - 1]\n",
        "                    )\n",
        "\n",
        "    #return the maximum value with full weight capacity and allowed items\n",
        "    return dpTable[n][w][item_no_limit]\n",
        "\n",
        "\n",
        "#values of items\n",
        "val = [60, 100, 120, 80, 70, 20, 30]  # values of items\n",
        "wt = [10, 20, 30, 40, 60, 10, 50]     # weights of items\n",
        "item_no_limit = 3                      # max number of items allowed\n",
        "w = 50                                 # knapsack weight capacity\n",
        "n = len(val)                           # number of items\n",
        "\n",
        "#testing the function\n",
        "knapSack_tabulation(w, wt, val, n, item_no_limit)\n",
        "\n",
        "\n",
        "\n"
      ],
      "metadata": {
        "colab": {
          "base_uri": "https://localhost:8080/"
        },
        "id": "GCqyQPTdtkKS",
        "outputId": "63d175aa-5ab6-4a48-ca65-6caf6e63ef8e"
      },
      "id": "GCqyQPTdtkKS",
      "execution_count": 50,
      "outputs": [
        {
          "output_type": "execute_result",
          "data": {
            "text/plain": [
              "220"
            ]
          },
          "metadata": {},
          "execution_count": 50
        }
      ]
    },
    {
      "cell_type": "code",
      "source": [
        "# Sample for top-down DP approach (memoization)\n",
        "# Initialize the list of items\n",
        "values = [60, 100, 120, 80, 70, 20, 30]\n",
        "weights = [10, 20, 30, 40, 60, 10, 50]\n",
        "capacity = 50\n",
        "n = len(values)\n",
        "item_limit = 3\n",
        "\n",
        "#initialize the container for storing computed values\n",
        "#values are initialized to -1\n",
        "calc = [[[-1 for limiting in range(item_limit + 1)] for weight in range(capacity + 1)] for item in range(n + 1)]\n",
        "\n",
        "\n",
        "def mem_knapSack(weights, values, capacity, item, item_limit):\n",
        "    #base condition\n",
        "    if item == 0 or capacity == 0 or item_limit == 0:\n",
        "        return 0\n",
        "\n",
        "    #return previously computed result if available, added condition of limit\n",
        "    if calc[item][capacity][item_limit] != -1:\n",
        "        return calc[item][capacity][item_limit]\n",
        "\n",
        "    #compute for other cases\n",
        "    if weights[item - 1] <= capacity:\n",
        "        calc[item][capacity][item_limit] = max(\n",
        "            values[item - 1] + mem_knapSack(weights, values, capacity - weights[item - 1], item - 1, item_limit - 1),\n",
        "            mem_knapSack(weights, values, capacity, item - 1, item_limit)\n",
        "        )\n",
        "        return calc[item][capacity][item_limit]\n",
        "\n",
        "    elif weights[item - 1] > capacity:\n",
        "        calc[item][capacity][item_limit] = mem_knapSack(weights, values, capacity, item - 1, item_limit)\n",
        "        return calc[item][capacity][item_limit]\n",
        "\n",
        "\n",
        "#call the function\n",
        "mem_knapSack(weights, values, capacity, n, item_limit)\n",
        "\n"
      ],
      "metadata": {
        "colab": {
          "base_uri": "https://localhost:8080/"
        },
        "id": "KMuWYqZby2M0",
        "outputId": "c253b34b-4932-4a81-d732-51d518d976a5"
      },
      "id": "KMuWYqZby2M0",
      "execution_count": 53,
      "outputs": [
        {
          "output_type": "execute_result",
          "data": {
            "text/plain": [
              "220"
            ]
          },
          "metadata": {},
          "execution_count": 53
        }
      ]
    },
    {
      "cell_type": "markdown",
      "id": "d97e864e",
      "metadata": {
        "id": "d97e864e"
      },
      "source": [
        "Fibonacci Numbers"
      ]
    },
    {
      "cell_type": "code",
      "source": [
        "def fibo(num):\n",
        "  if num <= 0: #if condition for numbers 0 and less than 0 since it is invalid\n",
        "    print(\"ERROR INVALID NUMBER\")\n",
        "  elif num == 1: #base case for number in the fibonacci sequence\n",
        "    return 0\n",
        "  elif num == 2: #base case for number 2 in the fibonacci sequence\n",
        "    return 1\n",
        "  else:\n",
        "    return fibo(num-1) + fibo(num-2)  #recursive call for finding the nth fibonacci number if conditions are met\n",
        "\n",
        "#get user input to which fibonacci number to find\n",
        "number = int(input(\"Enter number to find Fibonacci number: \"))\n",
        "print(f\"Fibonacci of {number}:\", fibo(number)) #printing the result of the function fibo\n"
      ],
      "metadata": {
        "id": "HoqkUdvj_2ZZ",
        "colab": {
          "base_uri": "https://localhost:8080/"
        },
        "outputId": "5c74a8da-5125-41c9-be0e-21ff0e20a2e3"
      },
      "id": "HoqkUdvj_2ZZ",
      "execution_count": 3,
      "outputs": [
        {
          "output_type": "stream",
          "name": "stdout",
          "text": [
            "Enter number to find Fibonacci number: 3\n",
            "Fibonacci of 3: 1\n"
          ]
        }
      ]
    },
    {
      "cell_type": "markdown",
      "id": "f44e88aa",
      "metadata": {
        "id": "f44e88aa"
      },
      "source": [
        "Task 2: Create a sample program that find the nth number of Fibonacci Series using Dynamic Programming"
      ]
    },
    {
      "cell_type": "code",
      "execution_count": 1,
      "id": "745871be",
      "metadata": {
        "id": "745871be",
        "colab": {
          "base_uri": "https://localhost:8080/"
        },
        "outputId": "bafae616-1024-4611-c11b-8cd351e742f8"
      },
      "outputs": [
        {
          "output_type": "stream",
          "name": "stdout",
          "text": [
            "Enter number to find Fibonacci number: 3\n",
            "Fibonacci(3) = 1\n"
          ]
        }
      ],
      "source": [
        "#type your code here\n",
        "\n",
        "def fibo_memo(n, memo={1: 0, 2: 1}): #memo dict already contains base cases for number 1,2\n",
        "    if n in memo: #condition to check if nth fibonacci is already in memory\n",
        "        return memo[n] #returns that fibonnaci number\n",
        "    memo[n] = fibo_memo(n - 1, memo) + fibo_memo(n - 2, memo) #else, computes for that nth fibonacci and stores in memory\n",
        "    return memo[n] #return that fibonnaci\n",
        "\n",
        "#get user input to which fibonacci number to find\n",
        "number = int(input(\"Enter number to find Fibonacci number: \"))\n",
        "print(f\"Fibonacci({number}) =\", fibo_memo(number))  #printing the result of the function fibo\n"
      ]
    },
    {
      "cell_type": "markdown",
      "id": "070ddd75",
      "metadata": {
        "id": "070ddd75"
      },
      "source": [
        "## Supplementary Problem (HOA 2.1 Submission):\n",
        "* Choose a real-life problem\n",
        "* Use recursion and dynamic programming to solve the problem"
      ]
    },
    {
      "cell_type": "code",
      "execution_count": 46,
      "id": "86eef507",
      "metadata": {
        "id": "86eef507",
        "colab": {
          "base_uri": "https://localhost:8080/"
        },
        "outputId": "eac4c59a-0391-4f7c-df69-a0a4924f9cd3"
      },
      "outputs": [
        {
          "output_type": "stream",
          "name": "stdout",
          "text": [
            "Store Management!\n",
            "Here are possible items you can stock (Item | Capacity | Cost):\n",
            "rice <6> - ₱1000\n",
            "canned sardines <2> - ₱50\n",
            "instant noodles <2> - ₱75\n",
            "coffee <1> - ₱25\n",
            "sugar <2> - ₱100\n",
            "salt <2> - ₱40\n",
            "soy sauce <3> - ₱40\n",
            "vinegar <2> - ₱30\n",
            "cooking oil <2> - ₱30\n",
            "powdered milk <3> - ₱60\n",
            "skyflakes <2> - ₱80\n",
            "mentos <1> - ₱20\n",
            "chocolates <1> - ₱15\n",
            "soft drinks <2> - ₱50\n",
            "gallon of water <3> - ₱90\n",
            "tide bar <2> - ₱30\n",
            "mosquito coil <1> - ₱40\n",
            "matches <3> - ₱45\n",
            "candles <2> - ₱15\n",
            "beer <2> - ₱90\n",
            "\n",
            "How much capacity do you have? 12\n",
            "\n",
            "Best combination of items to store:\n",
            "- gallon of water <3> ₱90\n",
            "- tide bar <2> ₱30\n",
            "- matches <3> ₱45\n",
            "- candles <2> ₱15\n",
            "- beer <2> ₱90\n",
            "\n",
            "Total cost of selected items: ₱270\n"
          ]
        }
      ],
      "source": [
        "def best_items(items, capacities, costs, limit, index=0, current=[], current_total=0):\n",
        "    #base case for when all items checked return the combination\n",
        "    if index == len(items):\n",
        "        return current\n",
        "\n",
        "    #first store all items possible within the limit\n",
        "    with_item = []\n",
        "    if current_total + capacities[index] <= limit:\n",
        "        with_item = best_items(\n",
        "            items, capacities, costs, limit, index + 1,\n",
        "            current + [items[index]], current_total + capacities[index]\n",
        "        )\n",
        "\n",
        "    #skipping items for combination comparison\n",
        "    without_item = best_items(items, capacities, costs, limit, index + 1, current, current_total)\n",
        "\n",
        "    #combination comparison for better use of capacity\n",
        "    return with_item if sum(capacities[items.index(i)] for i in with_item) > sum(capacities[items.index(i)] for i in without_item) else without_item\n",
        "\n",
        "\n",
        "#list of items\n",
        "items = [\"rice\", \"canned sardines\", \"instant noodles\", \"coffee\",\"sugar\",\n",
        "         \"salt\", \"soy sauce\", \"vinegar\", \"cooking oil\", \"powdered milk\",\n",
        "         \"skyflakes\", \"mentos\", \"chocolates\", \"soft drinks\",\"gallon of water\",\n",
        "         \"tide bar\",\"mosquito coil\", \"matches\", \"candles\", \"beer\"]\n",
        "\n",
        "#list of capacities\n",
        "capacities = [6, 2, 2, 1, 2,\n",
        "              2, 3, 2, 2, 3,\n",
        "              2, 1, 1, 2, 3,\n",
        "              2, 1, 3, 2, 2]\n",
        "\n",
        "#list of costs\n",
        "costs = [1000, 50, 75, 25, 100,\n",
        "         40, 40, 30, 30, 60,\n",
        "         80, 20, 15, 50, 90,\n",
        "         30, 40, 45, 15, 90]\n",
        "\n",
        "print(\"Store Management!\")\n",
        "print(\"Here are possible items you can stock (Item | Capacity | Cost):\")\n",
        "\n",
        "#use of dictionary to easily print item, capacity and costs\n",
        "item_info_dict = dict(zip(items, zip(capacities, costs)))\n",
        "for key, (capacity, cost) in item_info_dict.items():\n",
        "    print(f\"{key} <{capacity}> - ₱{cost}\")\n",
        "\n",
        "#user input for limiting capacity\n",
        "limit = int(input(\"\\nHow much capacity do you have? \"))\n",
        "\n",
        "#call the function\n",
        "best_combo = best_items(items, capacities, costs, limit)\n",
        "\n",
        "#calculate the total cost\n",
        "total_cost = sum(costs[items.index(item)] for item in best_combo)\n",
        "\n",
        "#display results\n",
        "print(\"\\nBest combination of items to store:\")\n",
        "for item in best_combo:\n",
        "    print(f\"- {item} <{capacities[items.index(item)]}> ₱{costs[items.index(item)]}\")\n",
        "\n",
        "print(f\"\\nTotal cost of selected items: ₱{total_cost}\")"
      ]
    },
    {
      "cell_type": "code",
      "execution_count": 44,
      "id": "73b071b6",
      "metadata": {
        "id": "73b071b6",
        "colab": {
          "base_uri": "https://localhost:8080/"
        },
        "outputId": "c3a1df2e-c676-409a-97d4-ba82bd8e84bf"
      },
      "outputs": [
        {
          "output_type": "stream",
          "name": "stdout",
          "text": [
            "Store Management!\n",
            "Here are possible items you can stock (Item | Capacity | Cost):\n",
            "rice <6> - ₱1000\n",
            "canned sardines <2> - ₱50\n",
            "instant noodles <2> - ₱75\n",
            "coffee <1> - ₱25\n",
            "sugar <2> - ₱100\n",
            "salt <2> - ₱40\n",
            "soy sauce <3> - ₱40\n",
            "vinegar <2> - ₱30\n",
            "cooking oil <2> - ₱30\n",
            "powdered milk <3> - ₱60\n",
            "skyflakes <2> - ₱80\n",
            "mentos <1> - ₱20\n",
            "chocolates <1> - ₱15\n",
            "soft drinks <2> - ₱50\n",
            "gallon of water <3> - ₱90\n",
            "tide bar <2> - ₱30\n",
            "mosquito coil <1> - ₱40\n",
            "matches <3> - ₱45\n",
            "candles <2> - ₱15\n",
            "beer <2> - ₱90\n",
            "\n",
            "How much capacity do you have? 12\n",
            "\n",
            "Best combination of items to store:\n",
            "- rice <6> ₱1000\n",
            "- canned sardines <2> ₱50\n",
            "- instant noodles <2> ₱75\n",
            "- beer <2> ₱90\n",
            "\n",
            "Total cost of selected items: ₱1215\n"
          ]
        }
      ],
      "source": [
        "#type your code here for dynamic programming solution\n",
        "def best_items(items, capacities, costs, limit, index=0, current=(), current_total=0, memo= {}):\n",
        "    #checking the memoization\n",
        "    if (index, current_total) in memo:\n",
        "        return memo[(index, current_total)]\n",
        "\n",
        "    #if all is checked return\n",
        "    if index == len(items):\n",
        "        return current\n",
        "\n",
        "    #check first item if in limit\n",
        "    with_item = ()\n",
        "    if current_total + capacities[index] <= limit:\n",
        "        with_item = best_items(\n",
        "            items, capacities, costs, limit, index + 1,\n",
        "            current + (items[index],), current_total + capacities[index], memo\n",
        "        )\n",
        "\n",
        "    #skipping item\n",
        "    without_item = best_items(items, capacities, costs, limit, index + 1, current, current_total, memo)\n",
        "\n",
        "    #comparison of combination which is better in terms of capacity use\n",
        "    best_choice = with_item if sum(capacities[items.index(i)] for i in with_item) > sum(capacities[items.index(i)] for i in without_item) else without_item\n",
        "\n",
        "    #storing the combination\n",
        "    memo[(index, current_total)] = best_choice\n",
        "    return best_choice\n",
        "\n",
        "\n",
        "#list of items\n",
        "items = [\"rice\", \"canned sardines\", \"instant noodles\", \"coffee\", \"sugar\",\n",
        "         \"salt\", \"soy sauce\", \"vinegar\", \"cooking oil\", \"powdered milk\",\n",
        "         \"skyflakes\", \"mentos\", \"chocolates\", \"soft drinks\", \"gallon of water\",\n",
        "         \"tide bar\", \"mosquito coil\", \"matches\", \"candles\", \"beer\"]\n",
        "\n",
        "#list of capacities\n",
        "capacities = [6, 2, 2, 1, 2,\n",
        "              2, 3, 2, 2, 3,\n",
        "              2, 1, 1, 2, 3,\n",
        "              2, 1, 3, 2, 2]\n",
        "\n",
        "#list of costs\n",
        "costs = [1000, 50, 75, 25, 100,\n",
        "         40, 40, 30, 30, 60,\n",
        "         80, 20, 15, 50, 90,\n",
        "         30, 40, 45, 15, 90]\n",
        "\n",
        "print(\"Store Management!\")\n",
        "print(\"Here are possible items you can stock (Item | Capacity | Cost):\")\n",
        "\n",
        "#use of dictionary to easily print item, capacity, and costs\n",
        "item_info_dict = dict(zip(items, zip(capacities, costs)))\n",
        "for key, (capacity, cost) in item_info_dict.items():\n",
        "    print(f\"{key} <{capacity}> - ₱{cost}\")\n",
        "\n",
        "#user input for limiting capacity\n",
        "limit = int(input(\"\\nHow much capacity do you have? \"))\n",
        "\n",
        "#call function with memoization\n",
        "best_combo = best_items(items, capacities, costs, limit)\n",
        "\n",
        "#calculate the cost\n",
        "total_cost = sum(costs[items.index(item)] for item in best_combo)\n",
        "\n",
        "#shows results\n",
        "print(\"\\nBest combination of items to store:\")\n",
        "for item in best_combo:\n",
        "    print(f\"- {item} <{capacities[items.index(item)]}> ₱{costs[items.index(item)]}\")\n",
        "\n",
        "print(f\"\\nTotal cost of selected items: ₱{total_cost}\")\n",
        "\n"
      ]
    },
    {
      "cell_type": "markdown",
      "id": "bb0ed6a9",
      "metadata": {
        "id": "bb0ed6a9"
      },
      "source": [
        "#### Conclusion"
      ]
    },
    {
      "cell_type": "code",
      "execution_count": 54,
      "id": "9627d18c",
      "metadata": {
        "id": "9627d18c",
        "colab": {
          "base_uri": "https://localhost:8080/",
          "height": 122
        },
        "outputId": "43e4d91f-6924-43ea-d61f-9a6053c68995"
      },
      "outputs": [
        {
          "output_type": "execute_result",
          "data": {
            "text/plain": [
              "'At the end of this activity I was able to learn the 3 techniques of solving problems which is the recursion, top-down approach and bottom-up approach.\\nI learned that recursion is moslty simple in structure and used to repeatedly solve for a particular problem but it is not ideal for larger scale problems \\ndue to its repetitiveness in computations. I understood that this is where the top-down and bottom-up approach comes in. This is because they can provide a\\nbetter way of solving by avoiding the repetitions. I learned that the structure of a top-down approach still uses recursive calls but it is paired with a memory or caching\\ntechnique so that it would not recompute for a result. Then I learned that the bottom-up approach uses a table structure filled by direct computations of the subproblems which\\nfully builds up to the optimal solution of the problem. From my understanding, all of these three techniques can be used for different problems like the Knapsack problem but \\nyou need to take in consideration the additional complexity of the problem like its constraints which can require a more efficient way of solving. '"
            ],
            "application/vnd.google.colaboratory.intrinsic+json": {
              "type": "string"
            }
          },
          "metadata": {},
          "execution_count": 54
        }
      ],
      "source": [
        "'''At the end of this activity I was able to learn the 3 techniques of solving problems which is the recursion, top-down approach and bottom-up approach.\n",
        "I learned that recursion is moslty simple in structure and used to repeatedly solve for a particular problem but it is not ideal for larger scale problems\n",
        "due to its repetitiveness in computations. I understood that this is where the top-down and bottom-up approach comes in. This is because they can provide a\n",
        "better way of solving by avoiding the repetitions. I learned that the structure of a top-down approach still uses recursive calls but it is paired with a memory or caching\n",
        "technique so that it would not recompute for a result. Then I learned that the bottom-up approach uses a table structure filled by direct computations of the subproblems which\n",
        "fully builds up to the optimal solution of the problem. From my understanding, all of these three techniques can be used for different problems like the Knapsack problem but\n",
        "you need to take in consideration the additional complexity of the problem like its constraints which can require a more efficient way of solving. '''"
      ]
    }
  ],
  "metadata": {
    "kernelspec": {
      "display_name": "Python 3",
      "language": "python",
      "name": "python3"
    },
    "language_info": {
      "codemirror_mode": {
        "name": "ipython",
        "version": 3
      },
      "file_extension": ".py",
      "mimetype": "text/x-python",
      "name": "python",
      "nbconvert_exporter": "python",
      "pygments_lexer": "ipython3",
      "version": "3.7.10"
    },
    "colab": {
      "provenance": [],
      "include_colab_link": true
    }
  },
  "nbformat": 4,
  "nbformat_minor": 5
}